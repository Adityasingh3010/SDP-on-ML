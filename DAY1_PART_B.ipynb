{
  "nbformat": 4,
  "nbformat_minor": 0,
  "metadata": {
    "colab": {
      "name": "DAY1-PART-B.ipynb",
      "provenance": []
    },
    "kernelspec": {
      "name": "python3",
      "display_name": "Python 3"
    },
    "language_info": {
      "name": "python"
    }
  },
  "cells": [
    {
      "cell_type": "markdown",
      "metadata": {
        "id": "1Eh7-iGLIOcS"
      },
      "source": [
        "ADITYA KUMAR SINGH - 118A2101 - EXTC B "
      ]
    },
    {
      "cell_type": "markdown",
      "metadata": {
        "id": "oTz2P_Xu7kvx"
      },
      "source": [
        "Question 1"
      ]
    },
    {
      "cell_type": "code",
      "metadata": {
        "colab": {
          "base_uri": "https://localhost:8080/",
          "height": 0
        },
        "id": "DoIN-dzS7lwt",
        "outputId": "fed58432-b6ee-4ef0-c7f7-10c96a277709"
      },
      "source": [
        "stu={'srno':'list of names','srno2':'roll no'}\n",
        "stu"
      ],
      "execution_count": 1,
      "outputs": [
        {
          "output_type": "execute_result",
          "data": {
            "text/plain": [
              "{'srno': 'list of names', 'srno2': 'roll no'}"
            ]
          },
          "metadata": {
            "tags": []
          },
          "execution_count": 1
        }
      ]
    },
    {
      "cell_type": "markdown",
      "metadata": {
        "id": "XYv9ggh16fV2"
      },
      "source": [
        "Question 2"
      ]
    },
    {
      "cell_type": "code",
      "metadata": {
        "id": "cgGB1RsrsItK",
        "colab": {
          "base_uri": "https://localhost:8080/",
          "height": 0
        },
        "outputId": "9bfe0a38-8e3e-49cb-ee71-fe49e02b7a11"
      },
      "source": [
        "countries=['spain','france','germany','norway']\n",
        "capitals=['madrid','paris','berlin','oslo']\n",
        "europe=dict(zip(countries,capitals))\n",
        "europe"
      ],
      "execution_count": 2,
      "outputs": [
        {
          "output_type": "execute_result",
          "data": {
            "text/plain": [
              "{'france': 'paris', 'germany': 'berlin', 'norway': 'oslo', 'spain': 'madrid'}"
            ]
          },
          "metadata": {
            "tags": []
          },
          "execution_count": 2
        }
      ]
    },
    {
      "cell_type": "markdown",
      "metadata": {
        "id": "-A9bhCcKD6hq"
      },
      "source": [
        "Question 3"
      ]
    },
    {
      "cell_type": "code",
      "metadata": {
        "colab": {
          "base_uri": "https://localhost:8080/",
          "height": 0
        },
        "id": "WAgzwTpND_Zz",
        "outputId": "9963b01b-3b2c-4423-8907-6db37e7a0114"
      },
      "source": [
        "nest=[['Aditya',101],['Aadi',102],['Adi',103]]\n",
        "for i in range(0,3):\n",
        "  for j in range(0,1):\n",
        "    print(\"Name:\",nest[i][j])\n",
        "    print(\"Roll no:\",nest[i][j+1])"
      ],
      "execution_count": 27,
      "outputs": [
        {
          "output_type": "stream",
          "text": [
            "Name: Aditya\n",
            "Roll no: 101\n",
            "Name: Aadi\n",
            "Roll no: 102\n",
            "Name: Adi\n",
            "Roll no: 103\n"
          ],
          "name": "stdout"
        }
      ]
    },
    {
      "cell_type": "markdown",
      "metadata": {
        "id": "e9imA3qr-RVw"
      },
      "source": [
        "Question 4"
      ]
    },
    {
      "cell_type": "code",
      "metadata": {
        "id": "UYuaDHDH3Dme"
      },
      "source": [
        "areas=['hallway',11.25,'kitchen',18.0,'living room',20.0,'bedroom',10.75,'bathroom',9.50]"
      ],
      "execution_count": 3,
      "outputs": []
    },
    {
      "cell_type": "code",
      "metadata": {
        "colab": {
          "base_uri": "https://localhost:8080/",
          "height": 0
        },
        "id": "QPdo2Skr-V9o",
        "outputId": "addfa216-26de-4f69-c92e-a8e61a0e6a43"
      },
      "source": [
        "areas[1]"
      ],
      "execution_count": 4,
      "outputs": [
        {
          "output_type": "execute_result",
          "data": {
            "text/plain": [
              "11.25"
            ]
          },
          "metadata": {
            "tags": []
          },
          "execution_count": 4
        }
      ]
    },
    {
      "cell_type": "code",
      "metadata": {
        "colab": {
          "base_uri": "https://localhost:8080/",
          "height": 0
        },
        "id": "xSxuP1Q0-50V",
        "outputId": "c703704c-ab2d-4f65-a7cb-713c5ec03be1"
      },
      "source": [
        "areas[-1]"
      ],
      "execution_count": 5,
      "outputs": [
        {
          "output_type": "execute_result",
          "data": {
            "text/plain": [
              "9.5"
            ]
          },
          "metadata": {
            "tags": []
          },
          "execution_count": 5
        }
      ]
    },
    {
      "cell_type": "code",
      "metadata": {
        "colab": {
          "base_uri": "https://localhost:8080/",
          "height": 0
        },
        "id": "UVXahCtZ-pQI",
        "outputId": "666cc38c-db55-4d4a-af8e-c8b7a4cc16ab"
      },
      "source": [
        "areas.append(\"balcony\")\n",
        "areas.append(4.5)\n",
        "areas"
      ],
      "execution_count": 6,
      "outputs": [
        {
          "output_type": "execute_result",
          "data": {
            "text/plain": [
              "['hallway',\n",
              " 11.25,\n",
              " 'kitchen',\n",
              " 18.0,\n",
              " 'living room',\n",
              " 20.0,\n",
              " 'bedroom',\n",
              " 10.75,\n",
              " 'bathroom',\n",
              " 9.5,\n",
              " 'balcony',\n",
              " 4.5]"
            ]
          },
          "metadata": {
            "tags": []
          },
          "execution_count": 6
        }
      ]
    },
    {
      "cell_type": "code",
      "metadata": {
        "colab": {
          "base_uri": "https://localhost:8080/",
          "height": 0
        },
        "id": "fu069SAS_AwL",
        "outputId": "c1cfc505-78b0-4830-f342-992e90df3b8e"
      },
      "source": [
        "areas[4]='chill zone'\n",
        "areas"
      ],
      "execution_count": 7,
      "outputs": [
        {
          "output_type": "execute_result",
          "data": {
            "text/plain": [
              "['hallway',\n",
              " 11.25,\n",
              " 'kitchen',\n",
              " 18.0,\n",
              " 'chill zone',\n",
              " 20.0,\n",
              " 'bedroom',\n",
              " 10.75,\n",
              " 'bathroom',\n",
              " 9.5,\n",
              " 'balcony',\n",
              " 4.5]"
            ]
          },
          "metadata": {
            "tags": []
          },
          "execution_count": 7
        }
      ]
    },
    {
      "cell_type": "code",
      "metadata": {
        "colab": {
          "base_uri": "https://localhost:8080/",
          "height": 0
        },
        "id": "wSiUJB6O_e2C",
        "outputId": "1a1b0201-83c8-4b9f-823a-82f25bc2a9aa"
      },
      "source": [
        "areas.remove('bedroom')\n",
        "areas"
      ],
      "execution_count": 8,
      "outputs": [
        {
          "output_type": "execute_result",
          "data": {
            "text/plain": [
              "['hallway',\n",
              " 11.25,\n",
              " 'kitchen',\n",
              " 18.0,\n",
              " 'chill zone',\n",
              " 20.0,\n",
              " 10.75,\n",
              " 'bathroom',\n",
              " 9.5,\n",
              " 'balcony',\n",
              " 4.5]"
            ]
          },
          "metadata": {
            "tags": []
          },
          "execution_count": 8
        }
      ]
    },
    {
      "cell_type": "code",
      "metadata": {
        "colab": {
          "base_uri": "https://localhost:8080/",
          "height": 0
        },
        "id": "km4vDC5a_oNP",
        "outputId": "eed6f4e8-843f-41e5-9c13-952470e16e2e"
      },
      "source": [
        "areas.insert(6,'children bedroom')\n",
        "areas"
      ],
      "execution_count": 9,
      "outputs": [
        {
          "output_type": "execute_result",
          "data": {
            "text/plain": [
              "['hallway',\n",
              " 11.25,\n",
              " 'kitchen',\n",
              " 18.0,\n",
              " 'chill zone',\n",
              " 20.0,\n",
              " 'children bedroom',\n",
              " 10.75,\n",
              " 'bathroom',\n",
              " 9.5,\n",
              " 'balcony',\n",
              " 4.5]"
            ]
          },
          "metadata": {
            "tags": []
          },
          "execution_count": 9
        }
      ]
    },
    {
      "cell_type": "code",
      "metadata": {
        "colab": {
          "base_uri": "https://localhost:8080/",
          "height": 0
        },
        "id": "MG1uDo3NAHgR",
        "outputId": "43930057-c697-4e78-a020-214e445b316b"
      },
      "source": [
        "areas.reverse()\n",
        "areas"
      ],
      "execution_count": 10,
      "outputs": [
        {
          "output_type": "execute_result",
          "data": {
            "text/plain": [
              "[4.5,\n",
              " 'balcony',\n",
              " 9.5,\n",
              " 'bathroom',\n",
              " 10.75,\n",
              " 'children bedroom',\n",
              " 20.0,\n",
              " 'chill zone',\n",
              " 18.0,\n",
              " 'kitchen',\n",
              " 11.25,\n",
              " 'hallway']"
            ]
          },
          "metadata": {
            "tags": []
          },
          "execution_count": 10
        }
      ]
    },
    {
      "cell_type": "markdown",
      "metadata": {
        "id": "7N32sneTBb_I"
      },
      "source": [
        "Question 5"
      ]
    },
    {
      "cell_type": "code",
      "metadata": {
        "colab": {
          "base_uri": "https://localhost:8080/",
          "height": 0
        },
        "id": "uBvG9VreAPKr",
        "outputId": "77685c8e-63d2-4f92-8f0b-8a185862877d"
      },
      "source": [
        "rollno=(101,102,103)\n",
        "name=('Aditya','Kumar','Singh')\n",
        "marks=(50,60,70)\n",
        "student=(rollno,name,marks)\n",
        "student"
      ],
      "execution_count": 19,
      "outputs": [
        {
          "output_type": "execute_result",
          "data": {
            "text/plain": [
              "((101, 102, 103), ('Aditya', 'Kumar', 'Singh'), (50, 60, 70))"
            ]
          },
          "metadata": {
            "tags": []
          },
          "execution_count": 19
        }
      ]
    },
    {
      "cell_type": "code",
      "metadata": {
        "id": "XiXHRb13CCXA"
      },
      "source": [
        "studentt=list(student)"
      ],
      "execution_count": 15,
      "outputs": []
    },
    {
      "cell_type": "code",
      "metadata": {
        "id": "OsI7gn4PCFLj"
      },
      "source": [
        "studentt.clear()"
      ],
      "execution_count": 17,
      "outputs": []
    },
    {
      "cell_type": "code",
      "metadata": {
        "colab": {
          "base_uri": "https://localhost:8080/",
          "height": 0
        },
        "id": "f5Yy1waDCjo7",
        "outputId": "3d15197d-11b2-4f93-f24c-69e9c7efe85a"
      },
      "source": [
        "studentt"
      ],
      "execution_count": 18,
      "outputs": [
        {
          "output_type": "execute_result",
          "data": {
            "text/plain": [
              "[]"
            ]
          },
          "metadata": {
            "tags": []
          },
          "execution_count": 18
        }
      ]
    }
  ]
}